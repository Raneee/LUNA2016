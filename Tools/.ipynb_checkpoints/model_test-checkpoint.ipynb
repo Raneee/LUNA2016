{
 "cells": [
  {
   "cell_type": "code",
   "execution_count": 37,
   "metadata": {},
   "outputs": [],
   "source": [
    "import torch\n",
    "import torch.nn as nn\n",
    "import torch.utils.model_zoo as models_zoo\n",
    "from torch.autograd import Variable\n",
    "import torch.nn.functional as F\n",
    "num_classes = 2"
   ]
  },
  {
   "cell_type": "code",
   "execution_count": 38,
   "metadata": {
    "collapsed": true
   },
   "outputs": [],
   "source": [
    "class Combined(nn.Module):\n",
    "    def __init__(self):\n",
    "        super(Combined, self).__init__()\n",
    "        self.fc1 = nn.Linear(16 * 5 * 5 * 5 * 3, 800)\n",
    "        self.fc2 = nn.Linear(1600, 100)\n",
    "        self.fc3 = nn.Linear(100, 2)\n",
    "            \n",
    "        self.model3D_1 = nn.Sequential(\n",
    "            nn.Conv3d(1, 6, kernel_size=(5, 5, 5)),\n",
    "            nn.ReLU(),\n",
    "            nn.MaxPool3d(3, 3),\n",
    "            nn.Conv3d(6, 16, kernel_size=(5, 5, 5)),\n",
    "            nn.ReLU(),\n",
    "            nn.MaxPool3d(3, 3)\n",
    "        )\n",
    "        self.model3D_2 = nn.Sequential(\n",
    "            nn.Conv3d(1, 6, kernel_size=(5, 5, 5)),\n",
    "            nn.ReLU(),\n",
    "            nn.MaxPool3d(3, 3),\n",
    "            nn.Conv3d(6, 16, kernel_size=(5, 5, 5)),\n",
    "            nn.ReLU(),\n",
    "            nn.MaxPool3d(3, 3)\n",
    "        )\n",
    "        self.model3D_3 = nn.Sequential(\n",
    "            nn.Conv3d(1, 6, kernel_size=(5, 5, 5)),\n",
    "            nn.ReLU(),\n",
    "            nn.MaxPool3d(3, 3),\n",
    "            nn.Conv3d(6, 16, kernel_size=(5, 5, 5)),\n",
    "            nn.ReLU(),\n",
    "            nn.MaxPool3d(3, 3)\n",
    "        )\n",
    "        \n",
    "        \n",
    "        \n",
    "        self.model2D = nn.Sequential(\n",
    "            nn.Conv2d(3, 32, kernel_size=5),\n",
    "            nn.ReLU(inplace=True),\n",
    "            nn.MaxPool2d(kernel_size=3, stride=3),\n",
    "            nn.Conv2d(32, 32, kernel_size=5),\n",
    "            nn.ReLU(inplace=True),\n",
    "            nn.MaxPool2d(kernel_size=3, stride=3)\n",
    "        )\n",
    "    \n",
    "    def forward(self, input3D_1, input3D_2, input3D_3, input2D):\n",
    "        out3D_1 = self.model3D_1(input3D_1)\n",
    "        out3D_1 = out3D_1.view(-1, 16 * 5 * 5 * 5)\n",
    "        \n",
    "        out3D_2 = self.model3D_2(input3D_2)\n",
    "        out3D_2 = out3D_2.view(-1, 16 * 5 * 5 * 5)\n",
    "        \n",
    "        out3D_3 = self.model3D_3(input3D_3)\n",
    "        out3D_3 = out3D_3.view(-1, 16 * 5 * 5 * 5)\n",
    "        \n",
    "        out3D = torch.cat([out3D_1, out3D_2, out3D_3], 1)\n",
    "        out3D = self.fc1(out3D)\n",
    "        \n",
    "        \n",
    "        out2D = self.model2D(input2D)\n",
    "        out2D = out2D.view(-1, 800)\n",
    "        \n",
    "        \n",
    "        out = torch.cat([out3D, out2D], 1)\n",
    "        out = F.relu(self.fc2(out))\n",
    "        out = self.fc3(out)\n",
    "        \n",
    "        return out"
   ]
  },
  {
   "cell_type": "code",
   "execution_count": 41,
   "metadata": {},
   "outputs": [
    {
     "name": "stdout",
     "output_type": "stream",
     "text": [
      "Combined (\n",
      "  (fc1): Linear (6000 -> 800)\n",
      "  (fc2): Linear (1600 -> 100)\n",
      "  (fc3): Linear (100 -> 2)\n",
      "  (model3D_1): Sequential (\n",
      "    (0): Conv3d(1, 6, kernel_size=(5, 5, 5), stride=(1, 1, 1))\n",
      "    (1): ReLU ()\n",
      "    (2): MaxPool3d (size=3, stride=3, padding=0, dilation=1, ceil_mode=False)\n",
      "    (3): Conv3d(6, 16, kernel_size=(5, 5, 5), stride=(1, 1, 1))\n",
      "    (4): ReLU ()\n",
      "    (5): MaxPool3d (size=3, stride=3, padding=0, dilation=1, ceil_mode=False)\n",
      "  )\n",
      "  (model3D_2): Sequential (\n",
      "    (0): Conv3d(1, 6, kernel_size=(5, 5, 5), stride=(1, 1, 1))\n",
      "    (1): ReLU ()\n",
      "    (2): MaxPool3d (size=3, stride=3, padding=0, dilation=1, ceil_mode=False)\n",
      "    (3): Conv3d(6, 16, kernel_size=(5, 5, 5), stride=(1, 1, 1))\n",
      "    (4): ReLU ()\n",
      "    (5): MaxPool3d (size=3, stride=3, padding=0, dilation=1, ceil_mode=False)\n",
      "  )\n",
      "  (model3D_3): Sequential (\n",
      "    (0): Conv3d(1, 6, kernel_size=(5, 5, 5), stride=(1, 1, 1))\n",
      "    (1): ReLU ()\n",
      "    (2): MaxPool3d (size=3, stride=3, padding=0, dilation=1, ceil_mode=False)\n",
      "    (3): Conv3d(6, 16, kernel_size=(5, 5, 5), stride=(1, 1, 1))\n",
      "    (4): ReLU ()\n",
      "    (5): MaxPool3d (size=3, stride=3, padding=0, dilation=1, ceil_mode=False)\n",
      "  )\n",
      "  (model2D): Sequential (\n",
      "    (0): Conv2d(3, 32, kernel_size=(5, 5), stride=(1, 1))\n",
      "    (1): ReLU (inplace)\n",
      "    (2): MaxPool2d (size=(3, 3), stride=(3, 3), dilation=(1, 1))\n",
      "    (3): Conv2d(32, 32, kernel_size=(5, 5), stride=(1, 1))\n",
      "    (4): ReLU (inplace)\n",
      "    (5): MaxPool2d (size=(3, 3), stride=(3, 3), dilation=(1, 1))\n",
      "  )\n",
      ")\n",
      "\n",
      "\n",
      "Variable containing:\n",
      " 0.2733 -0.0974\n",
      "[torch.cuda.FloatTensor of size 1x2 (GPU 0)]\n",
      "\n"
     ]
    }
   ],
   "source": [
    "model = Combined().cuda()\n",
    "print model\n",
    "print \n",
    "print \n",
    "a = torch.randn(1, 1, 64, 64, 64)\n",
    "b = torch.randn(1, 1, 64, 64, 64)\n",
    "c = torch.randn(1, 1, 64, 64, 64)\n",
    "d = torch.randn(1, 3, 64, 64)\n",
    "a = Variable(a).cuda()\n",
    "b = Variable(b).cuda()\n",
    "c = Variable(c).cuda()\n",
    "d = Variable(d).cuda()\n",
    "y = model(a, b, c, d)\n",
    "print(y)"
   ]
  },
  {
   "cell_type": "code",
   "execution_count": null,
   "metadata": {
    "collapsed": true
   },
   "outputs": [],
   "source": []
  },
  {
   "cell_type": "code",
   "execution_count": null,
   "metadata": {
    "collapsed": true
   },
   "outputs": [],
   "source": []
  }
 ],
 "metadata": {
  "kernelspec": {
   "display_name": "Python 2",
   "language": "python",
   "name": "python2"
  },
  "language_info": {
   "codemirror_mode": {
    "name": "ipython",
    "version": 2
   },
   "file_extension": ".py",
   "mimetype": "text/x-python",
   "name": "python",
   "nbconvert_exporter": "python",
   "pygments_lexer": "ipython2",
   "version": "2.7.12"
  }
 },
 "nbformat": 4,
 "nbformat_minor": 2
}
